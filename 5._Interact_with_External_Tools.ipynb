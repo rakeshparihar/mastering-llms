{
 "cells": [
  {
   "cell_type": "markdown",
   "id": "8c8d5bf5",
   "metadata": {},
   "source": [
    "# 5. Interact with External Tools"
   ]
  },
  {
   "cell_type": "code",
   "execution_count": null,
   "id": "cb7e52b2",
   "metadata": {},
   "outputs": [],
   "source": [
    "\n",
    "# Install necessary packages\n",
    "!pip install openai requests\n",
    "\n",
    "# Import required libraries\n",
    "import openai\n",
    "import requests\n",
    "\n",
    "# Define a function to generate text\n",
    "def generate_text(prompt):\n",
    "    response = openai.Completion.create(\n",
    "        engine=\"text-davinci-003\",\n",
    "        prompt=prompt,\n",
    "        max_tokens=100\n",
    "    )\n",
    "    return response.choices[0].text.strip()\n",
    "\n",
    "# Define a prompt to generate an API call\n",
    "prompt = \"Generate a request to fetch current weather data for New York City.\"\n",
    "api_call = generate_text(prompt)\n",
    "print(api_call)\n",
    "\n",
    "# Example of executing the generated API call\n",
    "response = requests.get(\"http://api.weatherapi.com/v1/current.json?key=YOUR_API_KEY&q=New York City\")\n",
    "weather_data = response.json()\n",
    "\n",
    "# Print the fetched weather data\n",
    "print(weather_data)\n"
   ]
  }
 ],
 "metadata": {},
 "nbformat": 4,
 "nbformat_minor": 5
}
