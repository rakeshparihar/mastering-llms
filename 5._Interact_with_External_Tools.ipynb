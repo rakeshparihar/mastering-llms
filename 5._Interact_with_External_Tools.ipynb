{
 "cells": [
  {
   "cell_type": "markdown",
   "id": "fbd671c7",
   "metadata": {},
   "source": [
    "# Interact with External Tools"
   ]
  },
  {
   "cell_type": "code",
   "execution_count": null,
   "id": "5ed961e0",
   "metadata": {},
   "outputs": [],
   "source": [
    "# Install necessary packages\n",
    "!pip install openai requests"
   ]
  },
  {
   "cell_type": "code",
   "execution_count": null,
   "id": "5b20fd93",
   "metadata": {},
   "outputs": [],
   "source": [
    "# Import required libraries\n",
    "import openai\n",
    "import requests\n",
    "\n",
    "# Initialize OpenAI API\n",
    "openai.api_key = 'your-api-key'\n",
    "\n",
    "# Define a function to generate text\n",
    "def generate_text(prompt):\n",
    "    response = openai.Completion.create(\n",
    "        engine=\"gpt-4\",\n",
    "        prompt=prompt,\n",
    "        max_tokens=100\n",
    "    )\n",
    "    return response.choices[0].text.strip()\n",
    "\n",
    "# Define a prompt to generate an API call\n",
    "prompt = \"Generate a request to fetch current weather data for New York City.\"\n",
    "api_call = generate_text(prompt)\n",
    "print(api_call)\n",
    "\n",
    "# Example of executing the generated API call\n",
    "response = requests.get(\"http://api.weatherapi.com/v1/current.json?key=YOUR_API_KEY&q=New York City\")\n",
    "weather_data = response.json()\n",
    "\n",
    "# Print the fetched weather data\n",
    "print(weather_data)"
   ]
  }
 ],
 "metadata": {},
 "nbformat": 4,
 "nbformat_minor": 5
}
