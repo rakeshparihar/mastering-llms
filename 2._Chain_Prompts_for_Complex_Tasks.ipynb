{
 "cells": [
  {
   "cell_type": "markdown",
   "id": "9cdf8fe4",
   "metadata": {},
   "source": [
    "# 2. Chain Prompts for Complex Tasks"
   ]
  },
  {
   "cell_type": "code",
   "execution_count": null,
   "id": "6852301f",
   "metadata": {},
   "outputs": [],
   "source": [
    "\n",
    "# Install necessary packages\n",
    "!pip install openai\n",
    "\n",
    "# Import required libraries\n",
    "import openai\n",
    "\n",
    "# Define a function to generate text\n",
    "def generate_text(prompt):\n",
    "    response = openai.Completion.create(\n",
    "        engine=\"text-davinci-003\",\n",
    "        prompt=prompt,\n",
    "        max_tokens=100\n",
    "    )\n",
    "    return response.choices[0].text.strip()\n",
    "\n",
    "# Define the first prompt\n",
    "prompt1 = \"The scientist discovered a new element. It had unusual properties, such as\"\n",
    "generated_text1 = generate_text(prompt1)\n",
    "\n",
    "# Use the generated text as part of the second prompt\n",
    "prompt2 = generated_text1 + \" This discovery led to\"\n",
    "result = generate_text(prompt2)\n",
    "\n",
    "# Display the final generated text\n",
    "print(result)\n"
   ]
  }
 ],
 "metadata": {},
 "nbformat": 4,
 "nbformat_minor": 5
}
