{
 "cells": [
  {
   "cell_type": "markdown",
   "id": "30e23e7e",
   "metadata": {},
   "source": [
    "# Chain Prompts for Complex Tasks"
   ]
  },
  {
   "cell_type": "code",
   "execution_count": null,
   "id": "dc45cea3",
   "metadata": {},
   "outputs": [],
   "source": [
    "# Install necessary packages\n",
    "!pip install openai"
   ]
  },
  {
   "cell_type": "code",
   "execution_count": null,
   "id": "0019322e",
   "metadata": {},
   "outputs": [],
   "source": [
    "# Import required libraries\n",
    "import openai\n",
    "\n",
    "# Initialize OpenAI API\n",
    "openai.api_key = 'your-api-key'\n",
    "\n",
    "# Define a function to generate text\n",
    "def generate_text(prompt):\n",
    "    response = openai.Completion.create(\n",
    "        engine=\"gpt-4\",\n",
    "        prompt=prompt,\n",
    "        max_tokens=100\n",
    "    )\n",
    "    return response.choices[0].text.strip()\n",
    "\n",
    "# Define the first prompt\n",
    "prompt1 = \"The scientist discovered a new element. It had unusual properties, such as\"\n",
    "generated_text1 = generate_text(prompt1)\n",
    "\n",
    "# Use the generated text as part of the second prompt\n",
    "prompt2 = generated_text1 + \" This discovery led to\"\n",
    "result = generate_text(prompt2)\n",
    "\n",
    "# Display the final generated text\n",
    "print(result)"
   ]
  }
 ],
 "metadata": {},
 "nbformat": 4,
 "nbformat_minor": 5
}
