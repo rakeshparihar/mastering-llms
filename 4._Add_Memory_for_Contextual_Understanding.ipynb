{
 "cells": [
  {
   "cell_type": "markdown",
   "id": "37d79b34",
   "metadata": {},
   "source": [
    "# 4. Add Memory for Contextual Understanding"
   ]
  },
  {
   "cell_type": "code",
   "execution_count": null,
   "id": "0992d67d",
   "metadata": {},
   "outputs": [],
   "source": [
    "\n",
    "# Install necessary packages\n",
    "!pip install openai\n",
    "\n",
    "# Import required libraries\n",
    "import openai\n",
    "\n",
    "# Define a function to generate text with memory\n",
    "conversation_history = []\n",
    "\n",
    "def generate_text_with_memory(prompt):\n",
    "    conversation_history.append(prompt)\n",
    "    combined_prompt = \"\\n\".join(conversation_history)\n",
    "    response = openai.Completion.create(\n",
    "        engine=\"text-davinci-003\",\n",
    "        prompt=combined_prompt,\n",
    "        max_tokens=100\n",
    "    )\n",
    "    result = response.choices[0].text.strip()\n",
    "    conversation_history.append(result)\n",
    "    return result\n",
    "\n",
    "# Define a conversation\n",
    "prompt = \"Hello, how are you?\"\n",
    "response = generate_text_with_memory(prompt)\n",
    "\n",
    "# Print the response\n",
    "print(response)\n"
   ]
  }
 ],
 "metadata": {},
 "nbformat": 4,
 "nbformat_minor": 5
}
