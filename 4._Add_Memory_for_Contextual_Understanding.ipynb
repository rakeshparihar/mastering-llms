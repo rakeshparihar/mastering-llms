{
 "cells": [
  {
   "cell_type": "markdown",
   "id": "71698ec2",
   "metadata": {},
   "source": [
    "# Add Memory for Contextual Understanding"
   ]
  },
  {
   "cell_type": "code",
   "execution_count": null,
   "id": "14a693c6",
   "metadata": {},
   "outputs": [],
   "source": [
    "# Install necessary packages\n",
    "!pip install openai"
   ]
  },
  {
   "cell_type": "code",
   "execution_count": null,
   "id": "7285747d",
   "metadata": {},
   "outputs": [],
   "source": [
    "# Import required libraries\n",
    "import openai\n",
    "\n",
    "# Initialize OpenAI API\n",
    "openai.api_key = 'your-api-key'\n",
    "conversation_history = []\n",
    "\n",
    "# Define a function to generate text with memory\n",
    "def generate_text_with_memory(prompt):\n",
    "    conversation_history.append(prompt)\n",
    "    combined_prompt = \"\\n\".join(conversation_history)\n",
    "    response = openai.Completion.create(\n",
    "        engine=\"gpt-4\",\n",
    "        prompt=combined_prompt,\n",
    "        max_tokens=100\n",
    "    )\n",
    "    result = response.choices[0].text.strip()\n",
    "    conversation_history.append(result)\n",
    "    return result\n",
    "\n",
    "# Define a conversation\n",
    "prompt = \"Hello, how are you?\"\n",
    "response = generate_text_with_memory(prompt)\n",
    "\n",
    "# Print the response\n",
    "print(response)"
   ]
  }
 ],
 "metadata": {},
 "nbformat": 4,
 "nbformat_minor": 5
}
