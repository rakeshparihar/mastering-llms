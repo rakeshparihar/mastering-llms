{
 "cells": [
  {
   "cell_type": "markdown",
   "id": "053eb699",
   "metadata": {},
   "source": [
    "# Create a Basic LLM Application"
   ]
  },
  {
   "cell_type": "code",
   "execution_count": null,
   "id": "350448f7",
   "metadata": {},
   "outputs": [],
   "source": [
    "# Install necessary packages\n",
    "!pip install openai"
   ]
  },
  {
   "cell_type": "code",
   "execution_count": null,
   "id": "e16c9428",
   "metadata": {},
   "outputs": [],
   "source": [
    "# Import required libraries\n",
    "import openai\n",
    "\n",
    "# Initialize OpenAI API\n",
    "openai.api_key = 'your-api-key'\n",
    "\n",
    "# Define a function to generate text\n",
    "def generate_text(prompt):\n",
    "    response = openai.Completion.create(\n",
    "        engine=\"gpt-4\",\n",
    "        prompt=prompt,\n",
    "        max_tokens=100\n",
    "    )\n",
    "    return response.choices[0].text.strip()\n",
    "\n",
    "# Create a basic LLM application\n",
    "prompt = \"Once upon a time in a land far away,\"\n",
    "result = generate_text(prompt)\n",
    "\n",
    "# Display the generated text\n",
    "print(result)"
   ]
  }
 ],
 "metadata": {},
 "nbformat": 4,
 "nbformat_minor": 5
}
