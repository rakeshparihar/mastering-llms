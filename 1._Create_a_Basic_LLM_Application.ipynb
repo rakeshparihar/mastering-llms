{
 "cells": [
  {
   "cell_type": "markdown",
   "id": "472ac507",
   "metadata": {},
   "source": [
    "# 1. Create a Basic LLM Application"
   ]
  },
  {
   "cell_type": "code",
   "execution_count": null,
   "id": "e44a744e",
   "metadata": {},
   "outputs": [],
   "source": [
    "\n",
    "# Install necessary packages\n",
    "!pip install openai\n",
    "\n",
    "# Import required libraries\n",
    "import openai\n",
    "\n",
    "# Define a function to generate text\n",
    "def generate_text(prompt):\n",
    "    response = openai.Completion.create(\n",
    "        engine=\"text-davinci-003\",\n",
    "        prompt=prompt,\n",
    "        max_tokens=100\n",
    "    )\n",
    "    return response.choices[0].text.strip()\n",
    "\n",
    "# Create a basic LLM application\n",
    "prompt = \"Once upon a time in a land far away,\"\n",
    "result = generate_text(prompt)\n",
    "\n",
    "# Display the generated text\n",
    "print(result)\n"
   ]
  }
 ],
 "metadata": {},
 "nbformat": 4,
 "nbformat_minor": 5
}
