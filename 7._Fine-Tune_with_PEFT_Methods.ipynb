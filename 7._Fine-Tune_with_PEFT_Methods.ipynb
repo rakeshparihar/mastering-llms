{
 "cells": [
  {
   "cell_type": "markdown",
   "id": "03186d75",
   "metadata": {},
   "source": [
    "# Fine-Tune with PEFT Methods"
   ]
  },
  {
   "cell_type": "code",
   "execution_count": null,
   "id": "e89ffeb3",
   "metadata": {},
   "outputs": [],
   "source": [
    "# Install necessary packages\n",
    "!pip install openai datasets transformers"
   ]
  },
  {
   "cell_type": "code",
   "execution_count": null,
   "id": "a44cf7b8",
   "metadata": {},
   "outputs": [],
   "source": [
    "# Import required libraries\n",
    "import openai\n",
    "from transformers import GPT2LMHeadModel, GPT2Tokenizer, Trainer, TrainingArguments\n",
    "from datasets import load_dataset\n",
    "\n",
    "# Load the dataset\n",
    "dataset = load_dataset(\"wikitext\", \"wikitext-2-raw-v1\", split=\"train\")\n",
    "\n",
    "# Initialize model and tokenizer\n",
    "model = GPT2LMHeadModel.from_pretrained(\"gpt-2\")\n",
    "tokenizer = GPT2Tokenizer.from_pretrained(\"gpt-2\")\n",
    "\n",
    "# Tokenize the dataset\n",
    "def tokenize_function(examples):\n",
    "    return tokenizer(examples[\"text\"], padding=\"max_length\", truncation=True, max_length=512)\n",
    "\n",
    "tokenized_datasets = dataset.map(tokenize_function, batched=True)\n",
    "\n",
    "# Set training arguments\n",
    "training_args = TrainingArguments(\n",
    "    output_dir=\"./results\",\n",
    "    num_train_epochs=1,\n",
    "    per_device_train_batch_size=8,\n",
    "    save_steps=10_000,\n",
    "    save_total_limit=2,\n",
    ")\n",
    "\n",
    "# Initialize Trainer\n",
    "trainer = Trainer(\n",
    "    model=model,\n",
    "    args=training_args,\n",
    "    train_dataset=tokenized_datasets,\n",
    ")\n",
    "\n",
    "# Fine-tune the model\n",
    "trainer.train()"
   ]
  }
 ],
 "metadata": {},
 "nbformat": 4,
 "nbformat_minor": 5
}
